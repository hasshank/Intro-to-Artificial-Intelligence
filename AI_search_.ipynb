{
  "nbformat": 4,
  "nbformat_minor": 0,
  "metadata": {
    "colab": {
      "provenance": []
    },
    "kernelspec": {
      "name": "python3",
      "display_name": "Python 3"
    },
    "language_info": {
      "name": "python"
    }
  },
  "cells": [
    {
      "cell_type": "code",
      "source": [
        "import util\n",
        "\n",
        "class SearchProblem:\n",
        "\n",
        "  def getStartState(self):\n",
        "\n",
        "    util.raiseNotDefined()\n",
        "\n",
        "  def isGoalState(self, state):\n",
        "\n",
        "    util.raiseNotDefined()\n",
        "\n",
        "  def getSuccessors(self, state):\n",
        "\n",
        "    util.raiseNotDefined()\n",
        "\n",
        "  def getCostOfActions(self, actions):\n",
        "\n",
        "    util.raiseNotDefined()\n",
        "\n",
        "def tinyMazeSearch(problem):\n",
        "\n",
        "  from game import Directions\n",
        "  s = Directions.SOUTH\n",
        "  w = Directions.WEST\n",
        "  return  [s, s, w, s, w, w, s, w]\n",
        "\n",
        "def depthFirstSearch(problem):\n",
        "\n",
        "  ## ...\n",
        "\n",
        "  util.raiseNotdefined()\n",
        "\n",
        "def breadthFirstSearch(problem):\n",
        "\n",
        "  ## ...\n",
        "\n",
        "  util.raiseNotdefined()\n",
        "\n",
        "def uniformCostSearch(problem):\n",
        "\n",
        "  # ...\n",
        "\n",
        "  util.raiseNotDefined()\n",
        "\n",
        "def nullHeristic(state, problem=None):\n",
        "\n",
        "  return 0\n",
        "\n",
        "def aStarSearch(problem, heuristic=nullHeristic):\n",
        "\n",
        "  # ...\n",
        "\n",
        "  util.raiseNotDefined()\n",
        "\n",
        "bfs = breadthFirstSearch\n",
        "dfs = depthFirstSearch\n",
        "astar = aStarSearch\n",
        "ucs = uniformCostSearch"
      ],
      "metadata": {
        "id": "b31oBtlxxP3H"
      },
      "execution_count": null,
      "outputs": []
    }
  ]
}